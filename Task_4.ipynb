{
 "cells": [
  {
   "cell_type": "markdown",
   "metadata": {
    "id": "MMoGIjXn8BmW"
   },
   "source": [
    "# Линейная регрессия"
   ]
  },
  {
   "cell_type": "markdown",
   "metadata": {
    "id": "bNf_EtrP8Bmb"
   },
   "source": [
    "Данные содержатся в файле `data/lin_reg.txt`. Прочитать их можно следующим так:"
   ]
  },
  {
   "cell_type": "code",
   "execution_count": 1,
   "metadata": {
    "id": "CU8rZZ4A8Bmc"
   },
   "outputs": [],
   "source": [
    "import numpy as np\n",
    "D = np.loadtxt('data/lin_reg.txt', delimiter=',')\n",
    "X = D[:, :-1]\n",
    "y = D[:, -1]"
   ]
  },
  {
   "cell_type": "markdown",
   "metadata": {
    "id": "V24Tbjj58Bmd"
   },
   "source": [
    "При выполнении заданий **нельзя** пользоваться `scikit-learn` и т.п., только `NumPy`/`JAX`/`TF`/`PyTorch` и `matplotlib`/`seaborn`/`plotly`/etc.\n",
    "\n",
    "1. Нарисуйте график среднеквадратичной ошибки в зависимости от параметра регуляризации $\\alpha$, используя полные данные для обучения и для тестирования. \n",
    "2. Подготовьте исходные данные для 5 fold CV.\n",
    "3. С помощью CV найдите оптимальное значение $\\alpha$ на какой-нибудь сетке значений.\n",
    "4. Постройте валидационную кривую. \n",
    "5. Постройте кривую обучения."
   ]
  },
  {
   "cell_type": "code",
   "execution_count": 6,
   "metadata": {
    "id": "anMcFgsI8Bmd"
   },
   "outputs": [],
   "source": [
    "import torch\n",
    "\n",
    "X = torch.tensor(X, dtype=torch.float)\n",
    "y = torch.tensor(y, dtype=torch.float)\n",
    "\n",
    "X = torch.hstack((torch.ones(X.shape[0], 1), X))"
   ]
  },
  {
   "cell_type": "code",
   "execution_count": 8,
   "metadata": {
    "id": "CUVjJjKZ8Bmd"
   },
   "outputs": [],
   "source": [
    "def qwe(y_true, y_pred):\n",
    "    return (y_true - y_pred).pow(2).mean()"
   ]
  },
  {
   "cell_type": "code",
   "execution_count": 13,
   "metadata": {
    "id": "TZkoMCWV8Bmd"
   },
   "outputs": [],
   "source": [
    "from tqdm.notebook import tqdm\n",
    "\n",
    "class LinearRegression:\n",
    "    def __init__(self, lr=0.001, momentum=0.9, loss=qwe, regulization=\"L2\", C=0.1, epochs=100, batch_size=100):\n",
    "        self.lr = lr\n",
    "        self.momentum = momentum\n",
    "        self.loss = loss\n",
    "        self.reguliztion = regulization\n",
    "        self.C = C\n",
    "        self.batch_size=batch_size\n",
    "        \n",
    "        self.theta = None\n",
    "        self.losses = None\n",
    "        self.prev_grad = 0\n",
    "        self.epochs = 100\n",
    "        \n",
    "    def fit(self, X, y, disable_bar=False):\n",
    "        self.theta = torch.rand(X.shape[1], requires_grad=True)\n",
    "        \n",
    "        epoch = 0\n",
    "        self.losses = []\n",
    "        n_iters = X.shape[0] // self.batch_size\n",
    "        \n",
    "        for epoch in tqdm(range(self.epochs), disable=disable_bar):\n",
    "            loss_acc = 0\n",
    "            for i in range(n_iters):\n",
    "                y_pred = X[i * self.batch_size: (i + 1) * self.batch_size] @ self.theta\n",
    "                loss = self.loss(y[i * self.batch_size: (i + 1) * self.batch_size], y_pred)\n",
    "\n",
    "                if self.reguliztion == \"L2\":\n",
    "                    loss += self.C * torch.norm(self.theta)\n",
    "\n",
    "                loss.backward()\n",
    "\n",
    "                with torch.no_grad():\n",
    "                    loss_acc += loss.item()\n",
    "\n",
    "                    grad = self.lr * self.theta.grad\n",
    "                    if self.momentum:\n",
    "                        grad += self.momentum * self.prev_grad\n",
    "\n",
    "                    self.theta -= grad\n",
    "                    self.prev_grad = grad\n",
    "\n",
    "                    self.theta.grad.zero_()\n",
    "                        \n",
    "            self.losses.append(loss_acc / n_iters)\n",
    "\n",
    "    \n",
    "    def predict(self, X):\n",
    "        return X @ self.theta"
   ]
  },
  {
   "cell_type": "code",
   "execution_count": 17,
   "metadata": {
    "colab": {
     "base_uri": "https://localhost:8080/",
     "height": 67,
     "referenced_widgets": [
      "74867f80515a44938e48354b4427468a",
      "7c535e7236b44afaab3b99489c85ace4",
      "a5bde0b2a5ba46f7ac87d90b9121704c",
      "94ce14ce33024ded88c5b269c170833c",
      "4ab81f9095ff4819b7e269a3e3f920e7",
      "b1fe49c028d04222b6e72fc970863516",
      "bfc7c361871b4545bb9bcae5392fc550",
      "0490536b44ff4f8fb7876187cf7fcafc"
     ]
    },
    "id": "72B6fEhS8Bme",
    "outputId": "2042f8b8-fadc-46da-8eb6-2591229c8c25"
   },
   "outputs": [
    {
     "data": {
      "application/vnd.jupyter.widget-view+json": {
       "model_id": "74867f80515a44938e48354b4427468a",
       "version_major": 2,
       "version_minor": 0
      },
      "text/plain": [
       "HBox(children=(FloatProgress(value=0.0), HTML(value='')))"
      ]
     },
     "metadata": {
      "tags": []
     },
     "output_type": "display_data"
    },
    {
     "name": "stdout",
     "output_type": "stream",
     "text": [
      "\n"
     ]
    }
   ],
   "source": [
    "reg = LinearRegression(lr=0.0005, C=1, momentum=0.9, batch_size=100)\n",
    "\n",
    "\n",
    "reg.fit(X, y)"
   ]
  },
  {
   "cell_type": "code",
   "execution_count": 18,
   "metadata": {
    "colab": {
     "base_uri": "https://localhost:8080/"
    },
    "id": "OoD91GSm8Bme",
    "outputId": "fb9c9552-6ee4-4328-8ca2-de35f4c8c377"
   },
   "outputs": [
    {
     "data": {
      "text/plain": [
       "tensor(95.1545, grad_fn=<MeanBackward0>)"
      ]
     },
     "execution_count": 18,
     "metadata": {
      "tags": []
     },
     "output_type": "execute_result"
    }
   ],
   "source": [
    "y_pred = reg.predict(X)\n",
    "\n",
    "qwe(y, y_pred)"
   ]
  },
  {
   "cell_type": "code",
   "execution_count": null,
   "metadata": {
    "id": "pSS_7HXt8Bme"
   },
   "outputs": [],
   "source": []
  },
  {
   "cell_type": "code",
   "execution_count": 19,
   "metadata": {
    "colab": {
     "base_uri": "https://localhost:8080/",
     "height": 509
    },
    "id": "xBHYu0558Bme",
    "outputId": "c01c165b-6190-4fc7-f052-ab25e227b84e"
   },
   "outputs": [
    {
     "name": "stderr",
     "output_type": "stream",
     "text": [
      "No handles with labels found to put in legend.\n"
     ]
    },
    {
     "data": {
      "image/png": "[encoded data removed]",
      "text/plain": [
       "<Figure size 1152x648 with 1 Axes>"
      ]
     },
     "metadata": {
      "needs_background": "light",
      "tags": []
     },
     "output_type": "display_data"
    }
   ],
   "source": [
    "from matplotlib import pyplot as plt\n",
    "\n",
    "\n",
    "def plot_losses(reg):\n",
    "    plt.plot(reg.losses)\n",
    "\n",
    "plt.figure(figsize=(16, 9))\n",
    "plot_losses(reg)\n",
    "plt.legend()\n",
    "plt.show()"
   ]
  },
  {
   "cell_type": "code",
   "execution_count": 21,
   "metadata": {
    "id": "BBfQxv5y8Bmf"
   },
   "outputs": [],
   "source": [
    "c_losses = []\n",
    "train_losses = []\n",
    "cs = np.arange(0.01, 10, 0.3)\n",
    "\n",
    "for C in cs:\n",
    "    reg = LinearRegression(C=C)\n",
    "\n",
    "    reg.fit(X, y, disable_bar=True)\n",
    "    \n",
    "    y_pred = reg.predict(X)\n",
    "    c_losses.append(qwe(y, y_pred))"
   ]
  },
  {
   "cell_type": "code",
   "execution_count": 20,
   "metadata": {
    "id": "_2oFhqRa8Bmf"
   },
   "outputs": [],
   "source": [
    "def plot_C(losses, Cs):\n",
    "    plt.plot(cs, losses)"
   ]
  },
  {
   "cell_type": "code",
   "execution_count": 22,
   "metadata": {
    "colab": {
     "base_uri": "https://localhost:8080/",
     "height": 507
    },
    "id": "xkP9INNC8Bmf",
    "outputId": "09003f6f-4519-43b6-a4a6-aa5ea0a20df3"
   },
   "outputs": [
    {
     "name": "stderr",
     "output_type": "stream",
     "text": [
      "No handles with labels found to put in legend.\n"
     ]
    },
    {
     "data": {
      "image/png": "[encoded data removed]",
      "text/plain": [
       "<Figure size 1152x648 with 1 Axes>"
      ]
     },
     "metadata": {
      "needs_background": "light",
      "tags": []
     },
     "output_type": "display_data"
    }
   ],
   "source": [
    "plt.figure(figsize=(16, 9))\n",
    "plot_C(c_losses, cs)\n",
    "plt.legend()\n",
    "plt.show()"
   ]
  },
  {
   "cell_type": "code",
   "execution_count": null,
   "metadata": {
    "id": "uc0Hsgih8Bmf"
   },
   "outputs": [],
   "source": []
  },
  {
   "cell_type": "code",
   "execution_count": null,
   "metadata": {
    "id": "IKB5RYyt8Bmf"
   },
   "outputs": [],
   "source": []
  },
  {
   "cell_type": "code",
   "execution_count": 23,
   "metadata": {
    "id": "zpgDwctF8Bmg"
   },
   "outputs": [],
   "source": [
    "class CrossVal:\n",
    "    def __init__(self, n_items, n_splits=5):\n",
    "        self.n_items = n_items\n",
    "        self.n_splits = n_splits\n",
    "    \n",
    "    def splits(self):\n",
    "        indicies = np.arange(self.n_items)\n",
    "        split_size = self.n_items // self.n_splits\n",
    "        \n",
    "        for i in range(self.n_splits):\n",
    "            train_indicies = indicies[0: i * split_size]\n",
    "            train_indicies = np.hstack((train_indicies, indicies[(i+1) * split_size:]))\n",
    "            \n",
    "            val_indicies = indicies[i * split_size: (i + 1) * split_size]\n",
    "            yield (train_indicies, val_indicies)\n",
    "            "
   ]
  },
  {
   "cell_type": "code",
   "execution_count": 24,
   "metadata": {
    "id": "mWQpdE5D8Bmg"
   },
   "outputs": [],
   "source": [
    "def cross_val_score(Regressor, X, y, n_splits=5, **params):\n",
    "    reg = Regressor(**params)\n",
    "    \n",
    "    scores = np.zeros(n_splits)\n",
    "    train_scores = np.zeros(n_splits)\n",
    "    cv = CrossVal(X.shape[0])\n",
    "\n",
    "    for i, (train_indicies, val_indicies) in enumerate(cv.splits()):\n",
    "        reg.fit(X[train_indicies], y[train_indicies], disable_bar=True)\n",
    "        y_pred = reg.predict(X[val_indicies])\n",
    "        scores[i] = qwe(y[val_indicies], y_pred)\n",
    "        y_pred = reg.predict(X[train_indicies])\n",
    "        train_scores[i] = qwe(y[train_indicies], y_pred)\n",
    "        \n",
    "    return scores, train_scores\n"
   ]
  },
  {
   "cell_type": "code",
   "execution_count": 25,
   "metadata": {
    "colab": {
     "base_uri": "https://localhost:8080/",
     "height": 493
    },
    "id": "W76QiThO8Bmg",
    "outputId": "c9147bfa-750b-4010-8cfb-c88e1b9cd50b"
   },
   "outputs": [
    {
     "data": {
      "image/png": "[encoded data removed]",
      "text/plain": [
       "<Figure size 1152x648 with 1 Axes>"
      ]
     },
     "metadata": {
      "needs_background": "light",
      "tags": []
     },
     "output_type": "display_data"
    }
   ],
   "source": [
    "c_losses = []\n",
    "train_losses = []\n",
    "cs = np.arange(0.01, 10, 0.3)\n",
    "\n",
    "for C in cs:\n",
    "    scores, train_scores = cross_val_score(LinearRegression, X, y, C=C, momentum=0.8)\n",
    "    c_losses.append(scores.mean())\n",
    "    train_losses.append(train_scores.mean())\n",
    "    \n",
    "plt.figure(figsize=(16, 9))\n",
    "plot_C(c_losses, cs)\n",
    "plot_C(train_losses, cs)\n",
    "plt.show()"
   ]
  },
  {
   "cell_type": "code",
   "execution_count": null,
   "metadata": {
    "id": "pvB3-MVp8Bmg"
   },
   "outputs": [],
   "source": []
  },
  {
   "cell_type": "code",
   "execution_count": 26,
   "metadata": {
    "id": "X-40lsQm8Bmg"
   },
   "outputs": [],
   "source": [
    "import random\n",
    "\n",
    "class RandomSearchCV:\n",
    "    def __init__(self, n_trials, params_bound, n_splits=5):\n",
    "        self.n_trials = n_trials\n",
    "        self.params_bound = params_bound\n",
    "        self.n_splits = n_splits\n",
    "        \n",
    "    def search(self, Regressor, X, y):\n",
    "        scores = []\n",
    "        for i in tqdm(range(self.n_trials)):\n",
    "            params = {\n",
    "                key: random.uniform(v[0], v[1])\n",
    "                for key, v in self.params_bound.items()\n",
    "            }\n",
    "            scores.append({\n",
    "                \"params\": params,\n",
    "                \"scores\": cross_val_score(Regressor, X, y, n_splits=self.n_splits, **params)[0].mean()\n",
    "            })\n",
    "        return scores"
   ]
  },
  {
   "cell_type": "code",
   "execution_count": 27,
   "metadata": {
    "colab": {
     "base_uri": "https://localhost:8080/",
     "height": 67,
     "referenced_widgets": [
      "6255fc31c91e4b9a82a844c39b463304",
      "6c7d5c89400044dbb0fd3273992097ab",
      "aa6dcc31e0db4e7281e1bd28ce4ffd3f",
      "612021c945c24b54a2fa852468f2aa1c",
      "d1bd26d4fe7042ef93043605399f7d9c",
      "c22aa0b22d134cc488d8768db0daeff8",
      "4976d07cff5e4f4a9d5ac93662716d99",
      "ef5959043f5f49a0b9235829ee6d1f90"
     ]
    },
    "id": "vZ7Trxpv8Bmh",
    "outputId": "5e92f9cc-7673-41d3-aba4-d14ad3172afb"
   },
   "outputs": [
    {
     "data": {
      "application/vnd.jupyter.widget-view+json": {
       "model_id": "6255fc31c91e4b9a82a844c39b463304",
       "version_major": 2,
       "version_minor": 0
      },
      "text/plain": [
       "HBox(children=(FloatProgress(value=0.0), HTML(value='')))"
      ]
     },
     "metadata": {
      "tags": []
     },
     "output_type": "display_data"
    },
    {
     "name": "stdout",
     "output_type": "stream",
     "text": [
      "\n"
     ]
    }
   ],
   "source": [
    "search = RandomSearchCV(100, {\n",
    "    \"lr\": (0.001, 0.00001),\n",
    "    \"C\": (0.1, 10),\n",
    "    \"momentum\": (0.5, 0.95)\n",
    "})\n",
    "\n",
    "results = search.search(LinearRegression, X, y)"
   ]
  },
  {
   "cell_type": "code",
   "execution_count": 28,
   "metadata": {
    "colab": {
     "base_uri": "https://localhost:8080/"
    },
    "id": "VjdyCPfM8Bmh",
    "outputId": "9d36a665-a8ae-4713-bb74-e330afcdd0d0"
   },
   "outputs": [
    {
     "data": {
      "text/plain": [
       "{'params': {'C': 1.9572447585015202,\n",
       "  'lr': 0.00010272853007986006,\n",
       "  'momentum': 0.9451691901358553},\n",
       " 'scores': 96.90280303955078}"
      ]
     },
     "execution_count": 28,
     "metadata": {
      "tags": []
     },
     "output_type": "execute_result"
    }
   ],
   "source": [
    "sorted(results, key=lambda x: x[\"scores\"])[0]"
   ]
  },
  {
   "cell_type": "code",
   "execution_count": null,
   "metadata": {
    "id": "maoZLk_d8Bmh"
   },
   "outputs": [],
   "source": []
  },
  {
   "cell_type": "code",
   "execution_count": null,
   "metadata": {
    "id": "c9pNRhMY8Bmh"
   },
   "outputs": [],
   "source": []
  },
  {
   "cell_type": "code",
   "execution_count": null,
   "metadata": {
    "id": "FlnDT81x8Bmh"
   },
   "outputs": [],
   "source": []
  },
  {
   "cell_type": "code",
   "execution_count": null,
   "metadata": {
    "id": "fcFVVJOI8Bmh"
   },
   "outputs": [],
   "source": []
  }
 ],
 "metadata": {
  "colab": {
   "collapsed_sections": [],
   "name": "Task_4.ipynb",
   "provenance": [],
   "toc_visible": true
  },
  "kernelspec": {
   "display_name": "Python 3",
   "language": "python",
   "name": "python3"
  },
  "language_info": {
   "codemirror_mode": {
    "name": "ipython",
    "version": 3
   },
   "file_extension": ".py",
   "mimetype": "text/x-python",
   "name": "python",
   "nbconvert_exporter": "python",
   "pygments_lexer": "ipython3",
   "version": "3.8.1"
  },
  "widgets": {
   "application/vnd.jupyter.widget-state+json": {
    "0490536b44ff4f8fb7876187cf7fcafc": {
     "model_module": "@jupyter-widgets/base",
     "model_name": "LayoutModel",
     "state": {
      "_model_module": "@jupyter-widgets/base",
      "_model_module_version": "1.2.0",
      "_model_name": "LayoutModel",
      "_view_count": null,
      "_view_module": "@jupyter-widgets/base",
      "_view_module_version": "1.2.0",
      "_view_name": "LayoutView",
      "align_content": null,
      "align_items": null,
      "align_self": null,
      "border": null,
      "bottom": null,
      "display": null,
      "flex": null,
      "flex_flow": null,
      "grid_area": null,
      "grid_auto_columns": null,
      "grid_auto_flow": null,
      "grid_auto_rows": null,
      "grid_column": null,
      "grid_gap": null,
      "grid_row": null,
      "grid_template_areas": null,
      "grid_template_columns": null,
      "grid_template_rows": null,
      "height": null,
      "justify_content": null,
      "justify_items": null,
      "left": null,
      "margin": null,
      "max_height": null,
      "max_width": null,
      "min_height": null,
      "min_width": null,
      "object_fit": null,
      "object_position": null,
      "order": null,
      "overflow": null,
      "overflow_x": null,
      "overflow_y": null,
      "padding": null,
      "right": null,
      "top": null,
      "visibility": null,
      "width": null
     }
    },
    "4976d07cff5e4f4a9d5ac93662716d99": {
     "model_module": "@jupyter-widgets/controls",
     "model_name": "DescriptionStyleModel",
     "state": {
      "_model_module": "@jupyter-widgets/controls",
      "_model_module_version": "1.5.0",
      "_model_name": "DescriptionStyleModel",
      "_view_count": null,
      "_view_module": "@jupyter-widgets/base",
      "_view_module_version": "1.2.0",
      "_view_name": "StyleView",
      "description_width": ""
     }
    },
    "4ab81f9095ff4819b7e269a3e3f920e7": {
     "model_module": "@jupyter-widgets/controls",
     "model_name": "ProgressStyleModel",
     "state": {
      "_model_module": "@jupyter-widgets/controls",
      "_model_module_version": "1.5.0",
      "_model_name": "ProgressStyleModel",
      "_view_count": null,
      "_view_module": "@jupyter-widgets/base",
      "_view_module_version": "1.2.0",
      "_view_name": "StyleView",
      "bar_color": null,
      "description_width": "initial"
     }
    },
    "612021c945c24b54a2fa852468f2aa1c": {
     "model_module": "@jupyter-widgets/controls",
     "model_name": "HTMLModel",
     "state": {
      "_dom_classes": [],
      "_model_module": "@jupyter-widgets/controls",
      "_model_module_version": "1.5.0",
      "_model_name": "HTMLModel",
      "_view_count": null,
      "_view_module": "@jupyter-widgets/controls",
      "_view_module_version": "1.5.0",
      "_view_name": "HTMLView",
      "description": "",
      "description_tooltip": null,
      "layout": "IPY_MODEL_ef5959043f5f49a0b9235829ee6d1f90",
      "placeholder": "​",
      "style": "IPY_MODEL_4976d07cff5e4f4a9d5ac93662716d99",
      "value": " 100/100 [02:02&lt;00:00,  1.22s/it]"
     }
    },
    "6255fc31c91e4b9a82a844c39b463304": {
     "model_module": "@jupyter-widgets/controls",
     "model_name": "HBoxModel",
     "state": {
      "_dom_classes": [],
      "_model_module": "@jupyter-widgets/controls",
      "_model_module_version": "1.5.0",
      "_model_name": "HBoxModel",
      "_view_count": null,
      "_view_module": "@jupyter-widgets/controls",
      "_view_module_version": "1.5.0",
      "_view_name": "HBoxView",
      "box_style": "",
      "children": [
       "IPY_MODEL_aa6dcc31e0db4e7281e1bd28ce4ffd3f",
       "IPY_MODEL_612021c945c24b54a2fa852468f2aa1c"
      ],
      "layout": "IPY_MODEL_6c7d5c89400044dbb0fd3273992097ab"
     }
    },
    "6c7d5c89400044dbb0fd3273992097ab": {
     "model_module": "@jupyter-widgets/base",
     "model_name": "LayoutModel",
     "state": {
      "_model_module": "@jupyter-widgets/base",
      "_model_module_version": "1.2.0",
      "_model_name": "LayoutModel",
      "_view_count": null,
      "_view_module": "@jupyter-widgets/base",
      "_view_module_version": "1.2.0",
      "_view_name": "LayoutView",
      "align_content": null,
      "align_items": null,
      "align_self": null,
      "border": null,
      "bottom": null,
      "display": null,
      "flex": null,
      "flex_flow": null,
      "grid_area": null,
      "grid_auto_columns": null,
      "grid_auto_flow": null,
      "grid_auto_rows": null,
      "grid_column": null,
      "grid_gap": null,
      "grid_row": null,
      "grid_template_areas": null,
      "grid_template_columns": null,
      "grid_template_rows": null,
      "height": null,
      "justify_content": null,
      "justify_items": null,
      "left": null,
      "margin": null,
      "max_height": null,
      "max_width": null,
      "min_height": null,
      "min_width": null,
      "object_fit": null,
      "object_position": null,
      "order": null,
      "overflow": null,
      "overflow_x": null,
      "overflow_y": null,
      "padding": null,
      "right": null,
      "top": null,
      "visibility": null,
      "width": null
     }
    },
    "74867f80515a44938e48354b4427468a": {
     "model_module": "@jupyter-widgets/controls",
     "model_name": "HBoxModel",
     "state": {
      "_dom_classes": [],
      "_model_module": "@jupyter-widgets/controls",
      "_model_module_version": "1.5.0",
      "_model_name": "HBoxModel",
      "_view_count": null,
      "_view_module": "@jupyter-widgets/controls",
      "_view_module_version": "1.5.0",
      "_view_name": "HBoxView",
      "box_style": "",
      "children": [
       "IPY_MODEL_a5bde0b2a5ba46f7ac87d90b9121704c",
       "IPY_MODEL_94ce14ce33024ded88c5b269c170833c"
      ],
      "layout": "IPY_MODEL_7c535e7236b44afaab3b99489c85ace4"
     }
    },
    "7c535e7236b44afaab3b99489c85ace4": {
     "model_module": "@jupyter-widgets/base",
     "model_name": "LayoutModel",
     "state": {
      "_model_module": "@jupyter-widgets/base",
      "_model_module_version": "1.2.0",
      "_model_name": "LayoutModel",
      "_view_count": null,
      "_view_module": "@jupyter-widgets/base",
      "_view_module_version": "1.2.0",
      "_view_name": "LayoutView",
      "align_content": null,
      "align_items": null,
      "align_self": null,
      "border": null,
      "bottom": null,
      "display": null,
      "flex": null,
      "flex_flow": null,
      "grid_area": null,
      "grid_auto_columns": null,
      "grid_auto_flow": null,
      "grid_auto_rows": null,
      "grid_column": null,
      "grid_gap": null,
      "grid_row": null,
      "grid_template_areas": null,
      "grid_template_columns": null,
      "grid_template_rows": null,
      "height": null,
      "justify_content": null,
      "justify_items": null,
      "left": null,
      "margin": null,
      "max_height": null,
      "max_width": null,
      "min_height": null,
      "min_width": null,
      "object_fit": null,
      "object_position": null,
      "order": null,
      "overflow": null,
      "overflow_x": null,
      "overflow_y": null,
      "padding": null,
      "right": null,
      "top": null,
      "visibility": null,
      "width": null
     }
    },
    "94ce14ce33024ded88c5b269c170833c": {
     "model_module": "@jupyter-widgets/controls",
     "model_name": "HTMLModel",
     "state": {
      "_dom_classes": [],
      "_model_module": "@jupyter-widgets/controls",
      "_model_module_version": "1.5.0",
      "_model_name": "HTMLModel",
      "_view_count": null,
      "_view_module": "@jupyter-widgets/controls",
      "_view_module_version": "1.5.0",
      "_view_name": "HTMLView",
      "description": "",
      "description_tooltip": null,
      "layout": "IPY_MODEL_0490536b44ff4f8fb7876187cf7fcafc",
      "placeholder": "​",
      "style": "IPY_MODEL_bfc7c361871b4545bb9bcae5392fc550",
      "value": " 100/100 [00:15&lt;00:00,  6.26it/s]"
     }
    },
    "a5bde0b2a5ba46f7ac87d90b9121704c": {
     "model_module": "@jupyter-widgets/controls",
     "model_name": "FloatProgressModel",
     "state": {
      "_dom_classes": [],
      "_model_module": "@jupyter-widgets/controls",
      "_model_module_version": "1.5.0",
      "_model_name": "FloatProgressModel",
      "_view_count": null,
      "_view_module": "@jupyter-widgets/controls",
      "_view_module_version": "1.5.0",
      "_view_name": "ProgressView",
      "bar_style": "success",
      "description": "100%",
      "description_tooltip": null,
      "layout": "IPY_MODEL_b1fe49c028d04222b6e72fc970863516",
      "max": 100,
      "min": 0,
      "orientation": "horizontal",
      "style": "IPY_MODEL_4ab81f9095ff4819b7e269a3e3f920e7",
      "value": 100
     }
    },
    "aa6dcc31e0db4e7281e1bd28ce4ffd3f": {
     "model_module": "@jupyter-widgets/controls",
     "model_name": "FloatProgressModel",
     "state": {
      "_dom_classes": [],
      "_model_module": "@jupyter-widgets/controls",
      "_model_module_version": "1.5.0",
      "_model_name": "FloatProgressModel",
      "_view_count": null,
      "_view_module": "@jupyter-widgets/controls",
      "_view_module_version": "1.5.0",
      "_view_name": "ProgressView",
      "bar_style": "success",
      "description": "100%",
      "description_tooltip": null,
      "layout": "IPY_MODEL_c22aa0b22d134cc488d8768db0daeff8",
      "max": 100,
      "min": 0,
      "orientation": "horizontal",
      "style": "IPY_MODEL_d1bd26d4fe7042ef93043605399f7d9c",
      "value": 100
     }
    },
    "b1fe49c028d04222b6e72fc970863516": {
     "model_module": "@jupyter-widgets/base",
     "model_name": "LayoutModel",
     "state": {
      "_model_module": "@jupyter-widgets/base",
      "_model_module_version": "1.2.0",
      "_model_name": "LayoutModel",
      "_view_count": null,
      "_view_module": "@jupyter-widgets/base",
      "_view_module_version": "1.2.0",
      "_view_name": "LayoutView",
      "align_content": null,
      "align_items": null,
      "align_self": null,
      "border": null,
      "bottom": null,
      "display": null,
      "flex": null,
      "flex_flow": null,
      "grid_area": null,
      "grid_auto_columns": null,
      "grid_auto_flow": null,
      "grid_auto_rows": null,
      "grid_column": null,
      "grid_gap": null,
      "grid_row": null,
      "grid_template_areas": null,
      "grid_template_columns": null,
      "grid_template_rows": null,
      "height": null,
      "justify_content": null,
      "justify_items": null,
      "left": null,
      "margin": null,
      "max_height": null,
      "max_width": null,
      "min_height": null,
      "min_width": null,
      "object_fit": null,
      "object_position": null,
      "order": null,
      "overflow": null,
      "overflow_x": null,
      "overflow_y": null,
      "padding": null,
      "right": null,
      "top": null,
      "visibility": null,
      "width": null
     }
    },
    "bfc7c361871b4545bb9bcae5392fc550": {
     "model_module": "@jupyter-widgets/controls",
     "model_name": "DescriptionStyleModel",
     "state": {
      "_model_module": "@jupyter-widgets/controls",
      "_model_module_version": "1.5.0",
      "_model_name": "DescriptionStyleModel",
      "_view_count": null,
      "_view_module": "@jupyter-widgets/base",
      "_view_module_version": "1.2.0",
      "_view_name": "StyleView",
      "description_width": ""
     }
    },
    "c22aa0b22d134cc488d8768db0daeff8": {
     "model_module": "@jupyter-widgets/base",
     "model_name": "LayoutModel",
     "state": {
      "_model_module": "@jupyter-widgets/base",
      "_model_module_version": "1.2.0",
      "_model_name": "LayoutModel",
      "_view_count": null,
      "_view_module": "@jupyter-widgets/base",
      "_view_module_version": "1.2.0",
      "_view_name": "LayoutView",
      "align_content": null,
      "align_items": null,
      "align_self": null,
      "border": null,
      "bottom": null,
      "display": null,
      "flex": null,
      "flex_flow": null,
      "grid_area": null,
      "grid_auto_columns": null,
      "grid_auto_flow": null,
      "grid_auto_rows": null,
      "grid_column": null,
      "grid_gap": null,
      "grid_row": null,
      "grid_template_areas": null,
      "grid_template_columns": null,
      "grid_template_rows": null,
      "height": null,
      "justify_content": null,
      "justify_items": null,
      "left": null,
      "margin": null,
      "max_height": null,
      "max_width": null,
      "min_height": null,
      "min_width": null,
      "object_fit": null,
      "object_position": null,
      "order": null,
      "overflow": null,
      "overflow_x": null,
      "overflow_y": null,
      "padding": null,
      "right": null,
      "top": null,
      "visibility": null,
      "width": null
     }
    },
    "d1bd26d4fe7042ef93043605399f7d9c": {
     "model_module": "@jupyter-widgets/controls",
     "model_name": "ProgressStyleModel",
     "state": {
      "_model_module": "@jupyter-widgets/controls",
      "_model_module_version": "1.5.0",
      "_model_name": "ProgressStyleModel",
      "_view_count": null,
      "_view_module": "@jupyter-widgets/base",
      "_view_module_version": "1.2.0",
      "_view_name": "StyleView",
      "bar_color": null,
      "description_width": "initial"
     }
    },
    "ef5959043f5f49a0b9235829ee6d1f90": {
     "model_module": "@jupyter-widgets/base",
     "model_name": "LayoutModel",
     "state": {
      "_model_module": "@jupyter-widgets/base",
      "_model_module_version": "1.2.0",
      "_model_name": "LayoutModel",
      "_view_count": null,
      "_view_module": "@jupyter-widgets/base",
      "_view_module_version": "1.2.0",
      "_view_name": "LayoutView",
      "align_content": null,
      "align_items": null,
      "align_self": null,
      "border": null,
      "bottom": null,
      "display": null,
      "flex": null,
      "flex_flow": null,
      "grid_area": null,
      "grid_auto_columns": null,
      "grid_auto_flow": null,
      "grid_auto_rows": null,
      "grid_column": null,
      "grid_gap": null,
      "grid_row": null,
      "grid_template_areas": null,
      "grid_template_columns": null,
      "grid_template_rows": null,
      "height": null,
      "justify_content": null,
      "justify_items": null,
      "left": null,
      "margin": null,
      "max_height": null,
      "max_width": null,
      "min_height": null,
      "min_width": null,
      "object_fit": null,
      "object_position": null,
      "order": null,
      "overflow": null,
      "overflow_x": null,
      "overflow_y": null,
      "padding": null,
      "right": null,
      "top": null,
      "visibility": null,
      "width": null
     }
    }
   }
  }
 },
 "nbformat": 4,
 "nbformat_minor": 1
}
