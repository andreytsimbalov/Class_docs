{
 "cells": [
  {
   "cell_type": "markdown",
   "metadata": {},
   "source": [
    "# Задание 1\n",
    "\n",
    "[Свертка списка](https://ru.wikipedia.org/wiki/%D0%A1%D0%B2%D1%91%D1%80%D1%82%D0%BA%D0%B0_%D1%81%D0%BF%D0%B8%D1%81%D0%BA%D0%B0) -  это обобщенная операция над списком, c помощью которой можно преобразовать список в единое значение. Например, рассмотрим реализации свертки слева и свертки справа (левоассоциативную свертку и правоассоциативную свертку):"
   ]
  },
  {
   "cell_type": "code",
   "execution_count": 1,
   "metadata": {
    "jupyter": {
     "outputs_hidden": true
    }
   },
   "outputs": [],
   "source": [
    "def foldl(f, x0, lst):\n",
    "    if not lst:\n",
    "        return x0\n",
    "    return foldl(f, f(x0, lst[0]), lst[1:])\n",
    "\n",
    "def foldr(f, x0, lst):\n",
    "    if not lst:\n",
    "        return x0\n",
    "    return f(lst[0], foldr(f, x0, lst[1:]))"
   ]
  },
  {
   "cell_type": "code",
   "execution_count": 35,
   "metadata": {},
   "outputs": [
    {
     "data": {
      "text/plain": [
       "8"
      ]
     },
     "execution_count": 35,
     "metadata": {},
     "output_type": "execute_result"
    }
   ],
   "source": [
    "#сумма\n",
    "foldl(lambda x, y: x + y, 2, [1, 2, 3])"
   ]
  },
  {
   "cell_type": "code",
   "execution_count": 109,
   "metadata": {},
   "outputs": [
    {
     "data": {
      "text/plain": [
       "'asd123'"
      ]
     },
     "execution_count": 109,
     "metadata": {},
     "output_type": "execute_result"
    }
   ],
   "source": [
    "#конкатенация\n",
    "foldl(lambda x, y: '{}{}'.format(x, y), 'asd', [1, 2, 3])"
   ]
  },
  {
   "cell_type": "code",
   "execution_count": 5,
   "metadata": {},
   "outputs": [
    {
     "data": {
      "text/plain": [
       "(0.16666666666666666, 1.5)"
      ]
     },
     "execution_count": 5,
     "metadata": {},
     "output_type": "execute_result"
    }
   ],
   "source": [
    "f = lambda x, y: x / y\n",
    "foldl(f, 1, [1, 2, 3]), \\\n",
    "foldr(f, 1, [1, 2, 3])"
   ]
  },
  {
   "cell_type": "markdown",
   "metadata": {},
   "source": [
    "Задача: реализовать foldl через foldr и наоборот. Вместо многоточий нужно вставить выражения, которые бы привели к нужному результату. Модифицировать сам список нельзя. "
   ]
  },
  {
   "cell_type": "markdown",
   "metadata": {},
   "source": [
    "$foldl2$"
   ]
  },
  {
   "cell_type": "code",
   "execution_count": 105,
   "metadata": {
    "jupyter": {
     "outputs_hidden": true
    }
   },
   "outputs": [
    {
     "data": {
      "text/plain": [
       "(8, 'asd123', 0.16666666666666666)"
      ]
     },
     "execution_count": 105,
     "metadata": {},
     "output_type": "execute_result"
    }
   ],
   "source": [
    "def foldl2(f, x0, lst):\n",
    "    return foldr(lambda val, acc: lambda n: acc(f(n, val)), lambda x: x, lst)(x0)\n",
    "\n",
    "foldl2(lambda x, y: x + y, 2, [1, 2, 3]),\\\n",
    "\\\n",
    "foldl2(lambda x, y: '{}{}'.format(x, y), 'asd', [1, 2, 3]),\\\n",
    "\\\n",
    "foldl2(lambda x, y: x / y, 1, [1, 2, 3])"
   ]
  },
  {
   "cell_type": "markdown",
   "metadata": {},
   "source": [
    "$foldr2$"
   ]
  },
  {
   "cell_type": "code",
   "execution_count": 106,
   "metadata": {
    "jupyter": {
     "outputs_hidden": true
    }
   },
   "outputs": [
    {
     "data": {
      "text/plain": [
       "(8, '123asd', 1.5)"
      ]
     },
     "execution_count": 106,
     "metadata": {},
     "output_type": "execute_result"
    }
   ],
   "source": [
    "def foldr2(f, x0, lst):\n",
    "    return foldl(lambda acc, val: lambda n: acc(f(val, n)), lambda x: x, lst)(x0)\n",
    "\n",
    "foldr2(lambda x, y: x + y, 2, [1, 2, 3]),\\\n",
    "\\\n",
    "foldr2(lambda x, y: '{}{}'.format(x, y), 'asd', [1, 2, 3]),\\\n",
    "\\\n",
    "foldr2(lambda x, y: x / y, 1, [1, 2, 3])"
   ]
  },
  {
   "cell_type": "markdown",
   "metadata": {},
   "source": [
    "# Задание 2\n",
    "\n",
    "нужно написать функцию, которая принимает две строки и проверяет, входит ли хотя бы одна перестановка второй строки в первую. Например:\n",
    "\n",
    "> a = 'abcrotm'\n",
    "> \n",
    "> b = 'tro'\n",
    "\n",
    "функция def check_inv(a, b) вернет True, так как 'rot' содержится в 'abcrotm'. Нужно подумать как можно более оптимальный алгоритм и оценить его сложность. "
   ]
  },
  {
   "cell_type": "markdown",
   "metadata": {},
   "source": [
    "Сложность функции занимет $O(len_a*len_b)$, т.к. цикл проходится за $O(len_a)$ итераций, а сравнение списков занимает $O(len_b)$"
   ]
  },
  {
   "cell_type": "code",
   "execution_count": 102,
   "metadata": {
    "jupyter": {
     "outputs_hidden": true
    }
   },
   "outputs": [
    {
     "data": {
      "text/plain": [
       "(True, False, False)"
      ]
     },
     "execution_count": 102,
     "metadata": {},
     "output_type": "execute_result"
    }
   ],
   "source": [
    "import string\n",
    "\n",
    "def check_inv(a, b):\n",
    "    b_chars = dict.fromkeys(string.ascii_letters, 0)\n",
    "    for char in b:\n",
    "        b_chars[char] += 1\n",
    "    \n",
    "    \n",
    "    a_chars = dict.fromkeys(string.ascii_letters, 0)\n",
    "    for char in a[:len(b) - 1]:\n",
    "        a_chars[char] += 1\n",
    "    \n",
    "    \n",
    "    for i in range(len(b) - 1, len(a)):\n",
    "        a_chars[a[i]] += 1\n",
    "        if(a_chars == b_chars):\n",
    "            return True\n",
    "        a_chars[a[i - len(b) + 1]] -= 1\n",
    "        \n",
    "    return False\n",
    "\n",
    "check_inv('abcrotm', 'tro'), \\\n",
    "\\\n",
    "check_inv('trdvno', 'tro'), \\\n",
    "\\\n",
    "check_inv('tlbjrlbo', 'tro')"
   ]
  },
  {
   "cell_type": "markdown",
   "metadata": {},
   "source": [
    "# Задание 3\n",
    "\n",
    "Реализовать бинарное дерево (класс Tree), в нём методы __repr__, __str__, __iter__ (итерация только по листьям)."
   ]
  },
  {
   "cell_type": "code",
   "execution_count": 86,
   "metadata": {},
   "outputs": [
    {
     "name": "stdout",
     "output_type": "stream",
     "text": [
      "0 1 3 4 2\n",
      "\n",
      "[3, 4, 2]\n"
     ]
    },
    {
     "data": {
      "text/plain": [
       "Tree(0, Tree(1, Tree(3), Tree(4)), Tree(2))"
      ]
     },
     "execution_count": 86,
     "metadata": {},
     "output_type": "execute_result"
    }
   ],
   "source": [
    "class Tree:\n",
    "    def __init__(self, value=None, left=None, right=None):\n",
    "        self.left = left\n",
    "        self.right = right\n",
    "        self.value = value\n",
    "        \n",
    "    def __iter__(self):\n",
    "        if(self.left == None and self.right == None):\n",
    "            yield self.value\n",
    "            \n",
    "        if(self.left):\n",
    "            yield from self.left\n",
    "        if(self.right):\n",
    "            yield from self.right\n",
    "            \n",
    "            \n",
    "    \n",
    "    def __str__(self):\n",
    "        res = [str(self.value)]\n",
    "        \n",
    "        if(self.left != None):\n",
    "            res.append(self.left.__str__())\n",
    "        if(self.right != None):\n",
    "            res.append(self.right.__str__())\n",
    "            \n",
    "        return ' '.join(res)\n",
    "    \n",
    "    \n",
    "    \n",
    "    def __repr__(self):\n",
    "        if(self.left == None and self.right == None):\n",
    "            return f\"Tree({self.value})\"\n",
    "        \n",
    "        if(self.right == None):\n",
    "            return f\"Tree({self.value}, {self.left.__repr__()})\"\n",
    "        if(self.left == None):\n",
    "            return f\"Tree({self.value}, None, {self.right.__repr__()})\"\n",
    "        \n",
    "        \n",
    "        return f\"Tree({self.value}, {self.left.__repr__()}, {self.right.__repr__()})\"\n",
    "    \n",
    "    \n",
    "    \n",
    "tree = Tree(0, Tree(1, Tree(3), Tree(4)), Tree(2))\n",
    "\n",
    "print(tree)\n",
    "print('')\n",
    "print(list(tree))\n",
    "tree"
   ]
  },
  {
   "cell_type": "markdown",
   "metadata": {},
   "source": [
    "# Задание 4\n",
    "\n",
    "Реализовать простейший калькулятор математических выражений:\n",
    "- только целые числа\n",
    "- **+**, **\\-**, **\\***, **\\**\n",
    "- скобки\n",
    "\n",
    "**Можно использовать регулярные выражения**"
   ]
  },
  {
   "cell_type": "code",
   "execution_count": 93,
   "metadata": {},
   "outputs": [
    {
     "data": {
      "text/plain": [
       "True"
      ]
     },
     "execution_count": 93,
     "metadata": {},
     "output_type": "execute_result"
    }
   ],
   "source": [
    "def parse(expr):\n",
    "    buf = []\n",
    "\n",
    "    for val in expr.split(\" \"):\n",
    "        if(val[0] == \"(\"):\n",
    "            buf.append(\"(\")\n",
    "            buf.append(val[1:])\n",
    "        elif(val[-1] == \")\"):\n",
    "            buf.append(val[:-1])\n",
    "            buf.append(\")\")\n",
    "        else:\n",
    "            buf.append(val)\n",
    "\n",
    "    result = []\n",
    "    stack = []\n",
    "    \n",
    "    high_pr = set([\"*\", \"/\"])\n",
    "    low_pr = set([\"+\", \"-\"])\n",
    "    \n",
    "    for val in buf:\n",
    "        if(val.isnumeric()):\n",
    "            result.append(val)\n",
    "        if(val == \"(\"):\n",
    "            stack.append(val)\n",
    "        if(val == \")\"):\n",
    "            while(stack[-1] != \"(\"):\n",
    "                result.append(stack.pop())\n",
    "            stack.pop()\n",
    "        if(val in low_pr):\n",
    "            while(len(stack) > 0 and stack[-1] in high_pr):\n",
    "                result.append(stack.pop())\n",
    "            stack.append(val)\n",
    "        if(val in high_pr):\n",
    "            stack.append(val)\n",
    "            \n",
    "    while(len(stack) > 0):\n",
    "        result.append(stack.pop())\n",
    "    \n",
    "    return result\n",
    "\n",
    "def calc(expr):\n",
    "    oper = {\n",
    "        \"+\": lambda x, y: x + y,\n",
    "        \"-\": lambda x, y: x - y,\n",
    "        \"*\": lambda x, y: x * y,\n",
    "        \"/\": lambda x, y: x / y\n",
    "    }\n",
    "    \n",
    "    expr = parse(expr)\n",
    "    stack = []\n",
    "    \n",
    "    for val in expr:\n",
    "        if(val.isnumeric()):\n",
    "            stack.append(int(val))\n",
    "        if(val in oper):\n",
    "            right = stack.pop()\n",
    "            left = stack.pop()\n",
    "            stack.append(oper[val](left, right))\n",
    "    return stack.pop()\n",
    "\n",
    "calc('2 * (15 - 3 * 4) - 2') == 4"
   ]
  },
  {
   "cell_type": "code",
   "execution_count": 94,
   "metadata": {
    "jupyter": {
     "outputs_hidden": true
    }
   },
   "outputs": [
    {
     "data": {
      "text/plain": [
       "2"
      ]
     },
     "execution_count": 94,
     "metadata": {},
     "output_type": "execute_result"
    }
   ],
   "source": [
    "calc('( 14 - 4 * 3 ) * 5 - 2 * ( 7 - 3 )')"
   ]
  },
  {
   "cell_type": "code",
   "execution_count": null,
   "metadata": {},
   "outputs": [],
   "source": []
  }
 ],
 "metadata": {
  "kernelspec": {
   "display_name": "Python 3",
   "language": "python",
   "name": "python3"
  },
  "language_info": {
   "codemirror_mode": {
    "name": "ipython",
    "version": 3
   },
   "file_extension": ".py",
   "mimetype": "text/x-python",
   "name": "python",
   "nbconvert_exporter": "python",
   "pygments_lexer": "ipython3",
   "version": "3.8.1"
  }
 },
 "nbformat": 4,
 "nbformat_minor": 4
}
