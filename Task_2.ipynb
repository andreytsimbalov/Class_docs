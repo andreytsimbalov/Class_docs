{
 "cells": [
  {
   "cell_type": "code",
   "execution_count": 2,
   "metadata": {},
   "outputs": [],
   "source": [
    "import numpy as np\n",
    "import scipy as sp\n",
    "import matplotlib.pyplot as plt\n",
    "import seaborn as sns\n",
    "\n",
    "%matplotlib inline"
   ]
  },
  {
   "cell_type": "markdown",
   "metadata": {},
   "source": [
    "# 1. Работа с массивами NumPy"
   ]
  },
  {
   "cell_type": "markdown",
   "metadata": {},
   "source": [
    "**N. Все упражнения ниже нужно делать без использования циклов Python**\n",
    "\n",
    "**1.** Cоздать вектор\n",
    "\n",
    "$$(2, \\frac{2^2}{2}, \\ldots, \\frac{2^{20}}{20})$$\n",
    "\n",
    "Можно использовать функции [np.arange()](http://docs.scipy.org/doc/numpy/reference/generated/numpy.arange.html), [np.ones()](http://docs.scipy.org/doc/numpy/reference/generated/numpy.ones.html)"
   ]
  },
  {
   "cell_type": "code",
   "execution_count": 4,
   "metadata": {},
   "outputs": [
    {
     "data": {
      "text/plain": [
       "array([2.00000000e+00, 2.00000000e+00, 2.66666667e+00, 4.00000000e+00,\n",
       "       6.40000000e+00, 1.06666667e+01, 1.82857143e+01, 3.20000000e+01,\n",
       "       5.68888889e+01, 1.02400000e+02, 1.86181818e+02, 3.41333333e+02,\n",
       "       6.30153846e+02, 1.17028571e+03, 2.18453333e+03, 4.09600000e+03,\n",
       "       7.71011765e+03, 1.45635556e+04, 2.75941053e+04, 5.24288000e+04])"
      ]
     },
     "execution_count": 4,
     "metadata": {},
     "output_type": "execute_result"
    }
   ],
   "source": [
    "((2 * np.ones(20)) ** np.arange(1, 21)) / np.arange(1, 21)"
   ]
  },
  {
   "cell_type": "markdown",
   "metadata": {},
   "source": [
    "**2.** Посчитать:\n",
    "\n",
    "$$\\sum\\limits_{i=0}^{5}{0.1^{3i}0.2^{4i}}$$\n"
   ]
  },
  {
   "cell_type": "code",
   "execution_count": 6,
   "metadata": {},
   "outputs": [
    {
     "data": {
      "text/plain": [
       "1.00000160000256"
      ]
     },
     "execution_count": 6,
     "metadata": {},
     "output_type": "execute_result"
    }
   ],
   "source": [
    "np.array((0.1 * np.ones(6)) ** (3 * np.arange(0, 6)) * (0.2 * np.ones(6)) ** (4 * np.arange(0, 6))).sum()"
   ]
  },
  {
   "cell_type": "markdown",
   "metadata": {},
   "source": [
    "**3.** Создать нулевую матрицe $8 \\times 8$, и заполнить её единицами в шахматном порядке."
   ]
  },
  {
   "cell_type": "code",
   "execution_count": 34,
   "metadata": {},
   "outputs": [
    {
     "data": {
      "text/plain": [
       "array([[1., 0., 1., 0., 1., 0., 1., 0.],\n",
       "       [0., 1., 0., 1., 0., 1., 0., 1.],\n",
       "       [1., 0., 1., 0., 1., 0., 1., 0.],\n",
       "       [0., 1., 0., 1., 0., 1., 0., 1.],\n",
       "       [1., 0., 1., 0., 1., 0., 1., 0.],\n",
       "       [0., 1., 0., 1., 0., 1., 0., 1.],\n",
       "       [1., 0., 1., 0., 1., 0., 1., 0.],\n",
       "       [0., 1., 0., 1., 0., 1., 0., 1.]])"
      ]
     },
     "execution_count": 34,
     "metadata": {},
     "output_type": "execute_result"
    }
   ],
   "source": [
    "m = np.zeros(8**2).reshape(8,8)\n",
    "m[::2 , ::2] = 1\n",
    "m[1::2 , 1::2] = 1\n",
    "m"
   ]
  },
  {
   "cell_type": "markdown",
   "metadata": {},
   "source": [
    "**4.** Есть 5 точек в декартовой системе координат (в виде матрицы $X$ размерностью $5 \\times 2$), сконвертируйте эти точки в полярную систему координат."
   ]
  },
  {
   "cell_type": "code",
   "execution_count": 40,
   "metadata": {},
   "outputs": [
    {
     "name": "stdout",
     "output_type": "stream",
     "text": [
      "[[0.66371284 0.13213681]\n",
      " [0.76672992 0.2762579 ]\n",
      " [0.23947234 0.83168734]\n",
      " [0.35106265 0.4383145 ]\n",
      " [0.392206   0.41499795]]\n"
     ]
    },
    {
     "data": {
      "text/plain": [
       "array([[0.67673841, 0.19651783],\n",
       "       [0.81498049, 0.34582703],\n",
       "       [0.86547723, 1.29044427],\n",
       "       [0.56157331, 0.89548382],\n",
       "       [0.57100687, 0.81362635]])"
      ]
     },
     "execution_count": 40,
     "metadata": {},
     "output_type": "execute_result"
    }
   ],
   "source": [
    "X = np.random.random((5, 2))\n",
    "print(X)\n",
    "r = np.sqrt(X[:, 0] ** 2 + X[:, 1] ** 2)\n",
    "u =  np.arctan2(X[:, 1], X[:, 0])\n",
    "X = np.array([r,u]).T\n",
    "X"
   ]
  },
  {
   "cell_type": "markdown",
   "metadata": {},
   "source": [
    "**5.** Найдите индексы максимального элемента в случайной матрице $10 \\times 10$.\n",
    "\n",
    "Cм. [np.argmax()](http://docs.scipy.org/doc/numpy/reference/generated/numpy.argmax.html)."
   ]
  },
  {
   "cell_type": "code",
   "execution_count": 115,
   "metadata": {},
   "outputs": [
    {
     "data": {
      "text/plain": [
       "(2, 2)"
      ]
     },
     "execution_count": 115,
     "metadata": {},
     "output_type": "execute_result"
    }
   ],
   "source": [
    "X = np.random.random((10, 10))\n",
    "\n",
    "idx = np.unravel_index(np.argmax(X), X.shape)\n",
    "idx"
   ]
  },
  {
   "cell_type": "markdown",
   "metadata": {},
   "source": [
    "**6.** Есть 10 точек ($X$) и ещё одна ($y$). Найти в $X$ ближайшую к $y$ точку."
   ]
  },
  {
   "cell_type": "code",
   "execution_count": 119,
   "metadata": {},
   "outputs": [
    {
     "name": "stdout",
     "output_type": "stream",
     "text": [
      "[[0.52061083 0.21025361]\n",
      " [0.4570747  0.23982993]\n",
      " [0.3089978  0.21341115]\n",
      " [0.56095657 0.31471973]\n",
      " [0.75703678 0.71244906]\n",
      " [0.64989751 0.05365037]\n",
      " [0.52284682 0.80220251]\n",
      " [0.32714994 0.47206228]\n",
      " [0.38623735 0.97536965]\n",
      " [0.78639407 0.98410636]]\n",
      "[[0.88160947 0.53815742]]\n"
     ]
    },
    {
     "data": {
      "text/plain": [
       "array([0.75703678, 0.71244906])"
      ]
     },
     "execution_count": 119,
     "metadata": {},
     "output_type": "execute_result"
    }
   ],
   "source": [
    "X = np.random.random((10, 2))\n",
    "y = np.random.random((1, 2))\n",
    "\n",
    "print(X)\n",
    "print(y)\n",
    "\n",
    "dist = np.sqrt((X[:,0]-y[:,0])**2+(X[:,1]-y[:,1])**2)\n",
    "X[np.argmin(dist), :]"
   ]
  },
  {
   "cell_type": "markdown",
   "metadata": {},
   "source": [
    "**7.** Дана функция:\n",
    "\n",
    "$$\n",
    " \\begin{cases}\n",
    "    x^2 + 2x + 6, & x < 0  \\\\\n",
    "    x + 6, & 0 \\le x \\le 2 \\\\\n",
    "    x^2 + 4x - 4, & x \\ge 2\n",
    " \\end{cases}\n",
    "$$\n",
    "\n",
    "Постройте массив из её значений на  $-3 \\le x \\le 3$."
   ]
  },
  {
   "cell_type": "code",
   "execution_count": 126,
   "metadata": {},
   "outputs": [
    {
     "data": {
      "text/plain": [
       "array([123.        ,  79.04938272,  57.41975309,  51.        ,\n",
       "        57.41975309,  71.44444444,  83.        ,  95.44444444,\n",
       "        20.77777778,  27.        ])"
      ]
     },
     "execution_count": 126,
     "metadata": {},
     "output_type": "execute_result"
    }
   ],
   "source": [
    "x = np.linspace(-3,3, 10)\n",
    "\n",
    "x[x < 0] = x[x < 0] ** 2 + 2 * x[x < 0] + 6\n",
    "x[(0 <= x) & (x <= 2)] = x[(0 <= x) & (x <= 2)] + 6\n",
    "x[x >= 2] = x[x >= 2] ** 2 + 4 * x[x >= 2] + 6\n",
    "x"
   ]
  },
  {
   "cell_type": "markdown",
   "metadata": {},
   "source": [
    "**8.** Из каждого элемента матрицы вычесть среднее арифметическое от всех элементов в соответствующей строке (после чего среднее значение каждой строки должно равняться нулю).\n",
    "\n",
    "Cм. [np.mean()](http://docs.scipy.org/doc/numpy/reference/generated/numpy.mean.html)."
   ]
  },
  {
   "cell_type": "code",
   "execution_count": 145,
   "metadata": {},
   "outputs": [
    {
     "data": {
      "text/plain": [
       "array([-2.22044605e-17,  2.22044605e-17, -2.22044605e-17, -1.11022302e-16,\n",
       "        6.66133815e-17,  0.00000000e+00, -2.22044605e-17, -9.99200722e-17,\n",
       "       -2.22044605e-17,  0.00000000e+00])"
      ]
     },
     "execution_count": 145,
     "metadata": {},
     "output_type": "execute_result"
    }
   ],
   "source": [
    "X = np.random.random((10, 10))\n",
    "\n",
    "\n",
    "X = X.T - X.mean(1)\n",
    "X = X.T\n",
    "\n",
    "X.mean(1)"
   ]
  },
  {
   "cell_type": "markdown",
   "metadata": {},
   "source": [
    "**9.** Есть массив из 1000 чисел, полученных из генератора случайных чисел, имеющий нормальное распределение. Посчитайте выборочное среднее и выборочную дисперсию. "
   ]
  },
  {
   "cell_type": "code",
   "execution_count": 177,
   "metadata": {},
   "outputs": [
    {
     "data": {
      "text/plain": [
       "(4.974682690842866, 2.0366683234584744)"
      ]
     },
     "execution_count": 177,
     "metadata": {},
     "output_type": "execute_result"
    }
   ],
   "source": [
    "X = np.random.normal(loc=5, scale=2., size=1000)\n",
    "\n",
    "loc = X.sum() / X.size\n",
    "scale = ((X - loc) ** 2).sum() / X.size\n",
    "loc, scale**0.5"
   ]
  },
  {
   "cell_type": "markdown",
   "metadata": {},
   "source": [
    "**10.** Создать матрицу:\n",
    "\n",
    "$$\n",
    "\\begin{pmatrix}\n",
    "0 & 1 & 2 & 3 & 4 \\\\\n",
    "1 & 2 & 3 & 4 & 0 \\\\\n",
    "2 & 3 & 4 & 0 & 1 \\\\\n",
    "3 & 4 & 0 & 1 & 2 \\\\\n",
    "4 & 0 & 1 & 2 & 3\n",
    "\\end{pmatrix}\n",
    "$$"
   ]
  },
  {
   "cell_type": "code",
   "execution_count": 180,
   "metadata": {},
   "outputs": [
    {
     "data": {
      "text/plain": [
       "array([[0., 1., 2., 3., 4.],\n",
       "       [1., 2., 3., 4., 0.],\n",
       "       [2., 3., 4., 0., 1.],\n",
       "       [3., 4., 0., 1., 2.],\n",
       "       [4., 0., 1., 2., 3.]])"
      ]
     },
     "execution_count": 180,
     "metadata": {},
     "output_type": "execute_result"
    }
   ],
   "source": [
    "a = np.ones((5, 5)) * np.arange(5)\n",
    "a += a.T\n",
    "a %= 5\n",
    "a"
   ]
  },
  {
   "cell_type": "markdown",
   "metadata": {},
   "source": [
    "**11.** Есть следующий алгоритм семплинирования, на вход функции подается вектор из целых положительных чисел и число семплов."
   ]
  },
  {
   "cell_type": "code",
   "execution_count": 183,
   "metadata": {},
   "outputs": [
    {
     "data": {
      "text/plain": [
       "[0, 0, 0, 0, 0, 0, 4, 3, 4, 0]"
      ]
     },
     "execution_count": 183,
     "metadata": {},
     "output_type": "execute_result"
    }
   ],
   "source": [
    "def sample(x, c):\n",
    "    assert len(x) > 0\n",
    "    \n",
    "    s = np.sum(x)\n",
    "    res = []\n",
    "    for _ in range(c):\n",
    "        val = s * np.random.random()\n",
    "        cur, idx = 0, 0        \n",
    "        while cur + x[idx] <= val:\n",
    "            cur += x[idx]\n",
    "            idx += 1\n",
    "            \n",
    "        res.append(idx)\n",
    "    return res\n",
    "\n",
    "            \n",
    "sample([50, 3, 1, 7, 20], 10)    "
   ]
  },
  {
   "cell_type": "markdown",
   "metadata": {},
   "source": [
    "Реализуйте данный алгоритм более оптимальным способом, без использования циклов."
   ]
  },
  {
   "cell_type": "code",
   "execution_count": 197,
   "metadata": {},
   "outputs": [
    {
     "data": {
      "text/plain": [
       "array([0, 0, 0, 4, 4, 0, 0, 0, 4, 4], dtype=int32)"
      ]
     },
     "execution_count": 197,
     "metadata": {},
     "output_type": "execute_result"
    }
   ],
   "source": [
    "def foo(x, c):\n",
    "    s = np.sum(x)\n",
    "    \n",
    "    sums = np.repeat(np.cumsum(x), c).reshape((len(x), c)).astype(\"float32\")\n",
    "    val = s * np.random.random(c)\n",
    "    \n",
    "    sums -= val.T\n",
    "    sums[sums >= 0] = 0\n",
    "    \n",
    "    return sums.argmax(0)\n",
    "\n",
    "foo([50, 3, 1, 7, 20], 10)    "
   ]
  },
  {
   "cell_type": "code",
   "execution_count": null,
   "metadata": {},
   "outputs": [],
   "source": []
  }
 ],
 "metadata": {
  "kernelspec": {
   "display_name": "Python 3",
   "language": "python",
   "name": "python3"
  },
  "language_info": {
   "codemirror_mode": {
    "name": "ipython",
    "version": 3
   },
   "file_extension": ".py",
   "mimetype": "text/x-python",
   "name": "python",
   "nbconvert_exporter": "python",
   "pygments_lexer": "ipython3",
   "version": "3.8.1"
  }
 },
 "nbformat": 4,
 "nbformat_minor": 4
}
